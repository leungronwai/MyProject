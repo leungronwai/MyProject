{
 "cells": [
  {
   "cell_type": "code",
   "execution_count": 1,
   "metadata": {},
   "outputs": [
    {
     "name": "stdout",
     "output_type": "stream",
     "text": [
      "[[1]]\n",
      "[[1 2 3]]\n",
      "[[1 2 3]\n",
      " [4 5 6]\n",
      " [7 8 9]]\n"
     ]
    }
   ],
   "source": [
    "import numpy as np\n",
    "\n",
    "A1= np.matrix('1')\n",
    "A2= np.matrix('1 ,2 ,3')\n",
    "A3= np.matrix('1 ,2 ,3; 4 ,5 ,6; 7 ,8 ,9')\n",
    "print(A1)\n",
    "print(A2)\n",
    "print(A3)"
   ]
  },
  {
   "cell_type": "markdown",
   "metadata": {},
   "source": [
    "https://prod.liveshare.vsengsaas.visualstudio.com/join?9ECE88F2461DB6DAFF50087D1B445D0434D3"
   ]
  },
  {
   "cell_type": "code",
   "execution_count": 2,
   "metadata": {},
   "outputs": [
    {
     "name": "stdout",
     "output_type": "stream",
     "text": [
      "(3,)\n",
      "[1 2 3]\n",
      "[14 32 50]\n"
     ]
    }
   ],
   "source": [
    "import numpy as np\n",
    "\n",
    "A = np.array([[1, 2, 3], [4, 5, 6], [7, 8, 9]])\n",
    "a1= np.array([1, 2, 3]) # 1x3  一维的数组 numpy.ndarray\n",
    "a2= np.array([[1, 2, 3]])  # vector  用二维数组表示一个行向量\n",
    "\n",
    "\n",
    "print(a1.shape) # (3,)\n",
    "print(a1.T) # (3,)\n",
    "\n",
    "print(A@a1) # matrix-vector  矩阵和向量的乘法"
   ]
  },
  {
   "cell_type": "code",
   "execution_count": null,
   "metadata": {},
   "outputs": [],
   "source": []
  },
  {
   "cell_type": "code",
   "execution_count": null,
   "metadata": {},
   "outputs": [],
   "source": []
  },
  {
   "cell_type": "code",
   "execution_count": 3,
   "metadata": {},
   "outputs": [
    {
     "name": "stdout",
     "output_type": "stream",
     "text": [
      "[[1. 0. 0. 0.]\n",
      " [0. 1. 0. 0.]\n",
      " [0. 0. 1. 0.]\n",
      " [0. 0. 0. 1.]]\n",
      "************\n",
      "[[1. 0. 0. 0.]\n",
      " [0. 1. 0. 0.]\n",
      " [0. 0. 1. 0.]\n",
      " [0. 0. 0. 1.]]\n",
      "************\n",
      "[[0. 0. 0.]\n",
      " [0. 0. 0.]\n",
      " [0. 0. 0.]]\n",
      "************\n",
      "[[9. 9. 9.]\n",
      " [9. 9. 9.]\n",
      " [9. 9. 9.]]\n",
      "************\n",
      "[[9 9]\n",
      " [9 9]\n",
      " [9 9]]\n"
     ]
    }
   ],
   "source": [
    "import scipy.linalg as la\n",
    "\n",
    "A = np.mat('1,2,3;4,5,6;7,8,9')\n",
    "B = np.mat('2,3;4,5')\n",
    "b= np.mat('-1,-2')\n",
    "C = np.mat('1,4;2,5;3,6')\n",
    "d = np.mat('-1;-2;-3')\n",
    "\n",
    "# basic matrix construction\n",
    "print(np.identity(4))\n",
    "print(\"************\")\n",
    "print(np.eye(4))\n",
    "print(\"************\")\n",
    "print(np.zeros((3,3)))\n",
    "print(\"************\")\n",
    "print(9* np.ones((3,3)))\n",
    "print(\"************\")\n",
    "print(9*np.ones_like(C))\n",
    "\n",
    "\n",
    "\n"
   ]
  },
  {
   "cell_type": "code",
   "execution_count": 25,
   "metadata": {},
   "outputs": [
    {
     "name": "stdout",
     "output_type": "stream",
     "text": [
      "[[ 1  2  3  0  0  0  0  0  0  0]\n",
      " [ 4  5  6  0  0  0  0  0  0  0]\n",
      " [ 7  8  9  0  0  0  0  0  0  0]\n",
      " [ 0  0  0  2  3  0  0  0  0  0]\n",
      " [ 0  0  0  4  5  0  0  0  0  0]\n",
      " [ 0  0  0  0  0 -1 -2  0  0  0]\n",
      " [ 0  0  0  0  0  0  0  1  4  0]\n",
      " [ 0  0  0  0  0  0  0  2  5  0]\n",
      " [ 0  0  0  0  0  0  0  3  6  0]\n",
      " [ 0  0  0  0  0  0  0  0  0 -1]\n",
      " [ 0  0  0  0  0  0  0  0  0 -2]\n",
      " [ 0  0  0  0  0  0  0  0  0 -3]]\n"
     ]
    }
   ],
   "source": [
    "#block diagonal matrix\n",
    "la.block_diag(A,B,b,C,d)\n",
    "print(la.block_diag(A,B,b,C,d))\n"
   ]
  },
  {
   "cell_type": "code",
   "execution_count": 4,
   "metadata": {},
   "outputs": [
    {
     "name": "stdout",
     "output_type": "stream",
     "text": [
      "[[1. 2. 3. 0. 0. 0. 0. 0. 0. 0. 0. 0. 0. 0. 0.]\n",
      " [4. 5. 6. 0. 0. 0. 0. 0. 0. 0. 0. 0. 0. 0. 0.]\n",
      " [7. 8. 9. 0. 0. 0. 0. 0. 0. 0. 0. 0. 0. 0. 0.]\n",
      " [0. 0. 0. 1. 2. 3. 0. 0. 0. 0. 0. 0. 0. 0. 0.]\n",
      " [0. 0. 0. 4. 5. 6. 0. 0. 0. 0. 0. 0. 0. 0. 0.]\n",
      " [0. 0. 0. 7. 8. 9. 0. 0. 0. 0. 0. 0. 0. 0. 0.]\n",
      " [0. 0. 0. 0. 0. 0. 1. 2. 3. 0. 0. 0. 0. 0. 0.]\n",
      " [0. 0. 0. 0. 0. 0. 4. 5. 6. 0. 0. 0. 0. 0. 0.]\n",
      " [0. 0. 0. 0. 0. 0. 7. 8. 9. 0. 0. 0. 0. 0. 0.]\n",
      " [0. 0. 0. 0. 0. 0. 0. 0. 0. 1. 2. 3. 0. 0. 0.]\n",
      " [0. 0. 0. 0. 0. 0. 0. 0. 0. 4. 5. 6. 0. 0. 0.]\n",
      " [0. 0. 0. 0. 0. 0. 0. 0. 0. 7. 8. 9. 0. 0. 0.]\n",
      " [0. 0. 0. 0. 0. 0. 0. 0. 0. 0. 0. 0. 1. 2. 3.]\n",
      " [0. 0. 0. 0. 0. 0. 0. 0. 0. 0. 0. 0. 4. 5. 6.]\n",
      " [0. 0. 0. 0. 0. 0. 0. 0. 0. 0. 0. 0. 7. 8. 9.]]\n"
     ]
    }
   ],
   "source": [
    "#kron\n",
    "np.kron(np.identity(5),A)\n",
    "print(np.kron(np.identity(5),A))\n"
   ]
  },
  {
   "cell_type": "code",
   "execution_count": 5,
   "metadata": {},
   "outputs": [
    {
     "name": "stdout",
     "output_type": "stream",
     "text": [
      "[[1. 2. 3.]\n",
      " [4. 5. 6.]\n",
      " [7. 8. 9.]\n",
      " [1. 2. 3.]\n",
      " [4. 5. 6.]\n",
      " [7. 8. 9.]\n",
      " [1. 2. 3.]\n",
      " [4. 5. 6.]\n",
      " [7. 8. 9.]\n",
      " [1. 2. 3.]\n",
      " [4. 5. 6.]\n",
      " [7. 8. 9.]]\n"
     ]
    }
   ],
   "source": [
    "np.kron(np.ones((4, 1)),A)\n",
    "print(np.kron(np.ones((4, 1)),A))"
   ]
  },
  {
   "cell_type": "code",
   "execution_count": 28,
   "metadata": {},
   "outputs": [
    {
     "name": "stdout",
     "output_type": "stream",
     "text": [
      "[[1 2 3 1 4 1 4 1 4 1 2 3]\n",
      " [4 5 6 2 5 2 5 2 5 4 5 6]\n",
      " [7 8 9 3 6 3 6 3 6 7 8 9]]\n"
     ]
    }
   ],
   "source": [
    "#block operation\n",
    "G4= np.hstack([A,C,C,C,A])\n",
    "print(G4)"
   ]
  },
  {
   "cell_type": "code",
   "execution_count": 29,
   "metadata": {},
   "outputs": [
    {
     "name": "stdout",
     "output_type": "stream",
     "text": [
      "[[ 2  3]\n",
      " [ 4  5]\n",
      " [-1 -2]\n",
      " [-1 -2]\n",
      " [-1 -2]\n",
      " [ 2  3]\n",
      " [ 4  5]]\n"
     ]
    }
   ],
   "source": [
    "G6= np.vstack([B,b,b,b,B])\n",
    "print(G6)"
   ]
  },
  {
   "cell_type": "code",
   "execution_count": 30,
   "metadata": {},
   "outputs": [
    {
     "name": "stdout",
     "output_type": "stream",
     "text": [
      "[[1 2 3 1 4 1 4 1 4]\n",
      " [4 5 6 2 5 2 5 2 5]\n",
      " [7 8 9 3 6 3 6 3 6]]\n"
     ]
    }
   ],
   "source": [
    "G = np.block([A,C,C,C])\n",
    "print(G)"
   ]
  },
  {
   "cell_type": "code",
   "execution_count": null,
   "metadata": {},
   "outputs": [],
   "source": [
    "# G5=np.block([[A,G6],[np.zeros((3,3)),C]])\n",
    "# print(G5)"
   ]
  },
  {
   "cell_type": "code",
   "execution_count": null,
   "metadata": {},
   "outputs": [],
   "source": [
    "已经看完了"
   ]
  },
  {
   "cell_type": "code",
   "execution_count": null,
   "metadata": {},
   "outputs": [],
   "source": [
    "11111111"
   ]
  },
  {
   "cell_type": "markdown",
   "metadata": {},
   "source": [
    "我是没法在这"
   ]
  }
 ],
 "metadata": {
  "interpreter": {
   "hash": "4dfa018617d73beb0ab818586cedd9873454d69d142f4ba11370b2e957376980"
  },
  "kernelspec": {
   "display_name": "Python 3.6.13 64-bit ('p1': conda)",
   "language": "python",
   "name": "python3"
  },
  "language_info": {
   "codemirror_mode": {
    "name": "ipython",
    "version": 3
   },
   "file_extension": ".py",
   "mimetype": "text/x-python",
   "name": "python",
   "nbconvert_exporter": "python",
   "pygments_lexer": "ipython3",
   "version": "3.6.13"
  },
  "orig_nbformat": 4
 },
 "nbformat": 4,
 "nbformat_minor": 2
}
